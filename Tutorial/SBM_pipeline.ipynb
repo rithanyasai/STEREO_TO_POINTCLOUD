{
 "cells": [
  {
   "cell_type": "code",
   "execution_count": 50,
   "id": "416dbf4a",
   "metadata": {},
   "outputs": [
    {
     "name": "stdout",
     "output_type": "stream",
     "text": [
      "Calibration data:\n",
      "{'P0': array([721.5377,   0.    , 609.5593,   0.    ,   0.    , 721.5377,\n",
      "       172.854 ,   0.    ,   0.    ,   0.    ,   1.    ,   0.    ]), 'P1': array([ 721.5377,    0.    ,  609.5593, -387.5744,    0.    ,  721.5377,\n",
      "        172.854 ,    0.    ,    0.    ,    0.    ,    1.    ,    0.    ]), 'P2': array([7.215377e+02, 0.000000e+00, 6.095593e+02, 4.485728e+01,\n",
      "       0.000000e+00, 7.215377e+02, 1.728540e+02, 2.163791e-01,\n",
      "       0.000000e+00, 0.000000e+00, 1.000000e+00, 2.745884e-03]), 'P3': array([ 7.215377e+02,  0.000000e+00,  6.095593e+02, -3.395242e+02,\n",
      "        0.000000e+00,  7.215377e+02,  1.728540e+02,  2.199936e+00,\n",
      "        0.000000e+00,  0.000000e+00,  1.000000e+00,  2.729905e-03]), 'R0_rect': array([ 0.9999239 ,  0.00983776, -0.00744505, -0.0098698 ,  0.9999421 ,\n",
      "       -0.00427846,  0.00740253,  0.00435161,  0.9999631 ]), 'Tr_velo_to_cam': array([ 7.533745e-03, -9.999714e-01, -6.166020e-04, -4.069766e-03,\n",
      "        1.480249e-02,  7.280733e-04, -9.998902e-01, -7.631618e-02,\n",
      "        9.998621e-01,  7.523790e-03,  1.480755e-02, -2.717806e-01]), 'Tr_imu_to_velo': array([ 9.999976e-01,  7.553071e-04, -2.035826e-03, -8.086759e-01,\n",
      "       -7.854027e-04,  9.998898e-01, -1.482298e-02,  3.195559e-01,\n",
      "        2.024406e-03,  1.482454e-02,  9.998881e-01, -7.997231e-01])}\n",
      "\n",
      "Q matrix:\n",
      "[[   1.            0.            0.         -609.5593    ]\n",
      " [   0.            1.            0.         -172.854     ]\n",
      " [   0.            0.            0.          721.5377    ]\n",
      " [   0.            0.           -2.12514366    0.        ]]\n"
     ]
    }
   ],
   "source": [
    "#@title GET THE CALIBERATION DATA, WE FOCUS ON Q MATRIX\n",
    "#run\n",
    "import numpy as np\n",
    "import cv2\n",
    "\n",
    "def parse_calibration_and_compute_Q(filepath):\n",
    "    \"\"\"Parse KITTI calibration file and compute Q matrix.\"\"\"\n",
    "    data = {}\n",
    "    with open(filepath, 'r') as f:\n",
    "        for line in f.readlines():\n",
    "            if ':' in line:\n",
    "                key, value = line.split(':')\n",
    "                data[key] = np.array([float(x) for x in value.split()])\n",
    "\n",
    "    # Extract camera parameters\n",
    "    P2 = data['P2'].reshape(3, 4)\n",
    "    P3 = data['P3'].reshape(3, 4)\n",
    "    f = P2[0, 0]\n",
    "    cx, cy = P2[0, 2], P2[1, 2]\n",
    "    Tx = P3[0, 3] / (-f)\n",
    "\n",
    "    # Compute Q matrix\n",
    "    Q = np.zeros((4, 4))\n",
    "    Q[0, 0] = Q[1, 1] = 1\n",
    "    Q[0, 3] = -cx\n",
    "    Q[1, 3] = -cy\n",
    "    Q[2, 3] = f\n",
    "    Q[3, 2] = -1 / Tx\n",
    "    Q[3, 3] = (cx - P3[0, 2]) / Tx  # cx' - cx\n",
    "\n",
    "    return data, Q\n",
    "\n",
    "\n",
    "calib_data, Q_matrix = parse_calibration_and_compute_Q('DATA/CALIB/000029.txt')\n",
    "print(\"Calibration data:\")\n",
    "print(calib_data)\n",
    "print(\"\\nQ matrix:\")\n",
    "print(Q_matrix)\n"
   ]
  },
  {
   "cell_type": "code",
   "execution_count": 77,
   "id": "7bf23d70",
   "metadata": {},
   "outputs": [
    {
     "name": "stdout",
     "output_type": "stream",
     "text": [
      "Point clouds generated successfully.\n"
     ]
    }
   ],
   "source": [
    "import os\n",
    "\n",
    "# Function to process a pair of left and right images and generate point cloud\n",
    "def process_image_pair(left_img_path, right_img_path, output_folder):\n",
    "    # Load left and right images\n",
    "    imgL = cv2.imread(left_img_path)\n",
    "    imgR = cv2.imread(right_img_path)\n",
    "\n",
    "    # Downsample images\n",
    "    imgL = downsample_image(imgL, 3)\n",
    "    imgR = downsample_image(imgR, 3)\n",
    "\n",
    "    imgLgray = cv2.cvtColor(imgL, cv2.COLOR_BGR2GRAY)\n",
    "    imgRgray = cv2.cvtColor(imgR, cv2.COLOR_BGR2GRAY)\n",
    "\n",
    "    # Compute disparity map\n",
    "    disparity_map = stereo.compute(imgLgray, imgRgray)\n",
    "\n",
    "    # Generate point cloud from disparity map\n",
    "    points_3D = cv2.reprojectImageTo3D(disparity_map, Q_matrix, handleMissingValues=False)\n",
    "    colors = cv2.cvtColor(imgR, cv2.COLOR_BGR2RGB)\n",
    "    mask_map = disparity_map > disparity_map.min()\n",
    "    output_points = points_3D[mask_map]\n",
    "    output_colors = colors[mask_map]\n",
    "\n",
    "    # Define output file path\n",
    "    filename = os.path.splitext(os.path.basename(left_img_path))[0]\n",
    "    output_file = os.path.join(output_folder, f\"pointCloud_{filename}.ply\")\n",
    "\n",
    "    # Generate point cloud file\n",
    "    create_point_cloud_file(output_points, output_colors, output_file)\n",
    "\n",
    "# Paths to left and right image folders\n",
    "left_folder = \"DATA/LEFT/\"\n",
    "right_folder = \"DATA/RIGHT\"\n",
    "\n",
    "# Output folder for point clouds\n",
    "output_folder = \"point_clouds_output\"\n",
    "\n",
    "# Iterate over images in the folders\n",
    "left_images = sorted(os.listdir(left_folder))\n",
    "right_images = sorted(os.listdir(right_folder))\n",
    "for left_img_name, right_img_name in zip(left_images, right_images):\n",
    "    left_img_path = os.path.join(left_folder, left_img_name)\n",
    "    right_img_path = os.path.join(right_folder, right_img_name)\n",
    "    process_image_pair(left_img_path, right_img_path, output_folder)\n",
    "\n",
    "print(\"Point clouds generated successfully.\")\n"
   ]
  },
  {
   "cell_type": "code",
   "execution_count": 79,
   "id": "1fd82930",
   "metadata": {},
   "outputs": [],
   "source": [
    "import open3d as o3d\n",
    "import numpy as np\n",
    "import matplotlib.pyplot as plt\n",
    "import os\n",
    "import sys\n",
    "import cv2\n",
    "\n",
    "opencv_pcd_path = \"point_clouds_output/pointCloud_000029L.ply\"\n",
    "pcd = o3d.io.read_point_cloud(opencv_pcd_path)\n",
    "\n",
    "# # Flip it, otherwise the pointcloud will be upside down\n",
    "# pcd.transform([[1, 0, 0, 0], [0, -1, 0, 0], [0, 0, -1, 0], [0, 0, 0, 1]])\n",
    "\n",
    "# Flip it horizontally\n",
    "pcd.transform([[1, 0, 0, 0], [0, -1, 0, 0], [0, 0, -1, 0], [0, 0, 0, -1]])\n",
    "\n",
    "# Visualize the point cloud\n",
    "o3d.visualization.draw_geometries([pcd])\n"
   ]
  },
  {
   "cell_type": "code",
   "execution_count": null,
   "id": "6e67e9e0",
   "metadata": {},
   "outputs": [],
   "source": []
  }
 ],
 "metadata": {
  "kernelspec": {
   "display_name": "Python 3 (ipykernel)",
   "language": "python",
   "name": "python3"
  },
  "language_info": {
   "codemirror_mode": {
    "name": "ipython",
    "version": 3
   },
   "file_extension": ".py",
   "mimetype": "text/x-python",
   "name": "python",
   "nbconvert_exporter": "python",
   "pygments_lexer": "ipython3",
   "version": "3.11.5"
  }
 },
 "nbformat": 4,
 "nbformat_minor": 5
}
